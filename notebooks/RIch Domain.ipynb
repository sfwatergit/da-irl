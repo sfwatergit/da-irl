{
 "cells": [
  {
   "cell_type": "markdown",
   "metadata": {},
   "source": [
    "## Imports"
   ]
  },
  {
   "cell_type": "code",
   "execution_count": 1,
   "metadata": {
    "collapsed": true
   },
   "outputs": [],
   "source": [
    "# Default\n",
    "import sys\n",
    "import datetime\n",
    "\n",
    "sys.path.append('../src')\n",
    "sys.path.append('../')\n",
    "sys.path.append('../../da-irl')\n",
    "\n",
    "import numpy as np\n",
    "from impl.activity_mdp import ATPTransition, ActivityMDP\n",
    "from impl.activity_rewards import ActivityRewardFunction\n",
    "from impl.persona_population_data import ExpertPersonaAgent\n",
    "from irl.maxent_irl import MaxEntIRL\n",
    "\n",
    "\n",
    "\n",
    "from file_io.activity_config import ATPConfig\n",
    "from impl.activity_env import ActivityEnv\n",
    "from misc.math_utils import create_dir_if_not_exists\n",
    "\n",
    "# Vendor\n",
    "import matplotlib.pyplot as plt\n",
    "import geopandas as gpd\n",
    "import pandas as pd\n",
    "from pandas.tseries.offsets import Day\n",
    "import shapely\n",
    "from shapely.geometry import box\n",
    "import numpy as np\n",
    "import folium\n",
    "\n",
    "shapely.speedups.enable()\n",
    "\n"
   ]
  },
  {
   "cell_type": "code",
   "execution_count": null,
   "metadata": {
    "collapsed": true
   },
   "outputs": [],
   "source": [
    "20"
   ]
  },
  {
   "cell_type": "code",
   "execution_count": 2,
   "metadata": {
    "collapsed": true
   },
   "outputs": [],
   "source": [
    "from swlcommon import TraceLoader"
   ]
  },
  {
   "cell_type": "code",
   "execution_count": 3,
   "metadata": {
    "collapsed": true
   },
   "outputs": [],
   "source": [
    "# Global magics statements\n",
    "\n",
    "%load_ext autoreload\n",
    "%autoreload 2\n",
    "%matplotlib inline"
   ]
  },
  {
   "cell_type": "markdown",
   "metadata": {},
   "source": [
    "## Constants and Utility Functions"
   ]
  },
  {
   "cell_type": "code",
   "execution_count": 4,
   "metadata": {
    "collapsed": true
   },
   "outputs": [],
   "source": [
    "# BBOX:\n",
    "LAT_MIN=32.831\n",
    "LAT_MAX=38.67\n",
    "LNG_MIN=-128.9\n",
    "LNG_MAX=-117.41\n",
    "\n",
    "# DOW\n",
    "MON = 0\n",
    "TUES = 1\n",
    "WEDS = 2\n",
    "THUR = 3\n",
    "FRI = 4\n",
    "SAT = 5\n",
    "SUN = 6\n",
    "\n",
    "# Path\n",
    "PATH = '../../da-irl/data/traces/traces_persona_2.csv'\n",
    "\n",
    "def great_circle_distance(pt1,pt2):\n",
    "    \"\"\"\n",
    "    Return the great-circle distance in kilometers between two points,\n",
    "    defined by a tuple (lat, lon).\n",
    "    Examples\n",
    "    --------\n",
    "    >>> brussels = (50.8503, 4.3517)\n",
    "    >>> paris = (48.8566, 2.3522)\n",
    "    >>> great_circle_distance(brussels, paris)\n",
    "    263.9754164080347\n",
    "    \"\"\"\n",
    "    r = 6371.\n",
    "    \n",
    "    delta_latitude = np.radians(pt1[:,0] - pt2[:,0])\n",
    "    delta_longitude = np.radians(pt1[:,1] - pt2[:,1])\n",
    "    latitude1 = np.radians(pt1[:,0])\n",
    "    latitude2 = np.radians(pt2[:,0])\n",
    "\n",
    "    a = np.sin(delta_latitude / 2) ** 2 + np.cos(latitude1) * np.cos(latitude2) * np.sin(delta_longitude / 2) ** 2\n",
    "    return r * 2. * np.arcsin(np.sqrt(a))\n"
   ]
  },
  {
   "cell_type": "markdown",
   "metadata": {},
   "source": [
    "## Domain"
   ]
  },
  {
   "cell_type": "code",
   "execution_count": 1119,
   "metadata": {
    "collapsed": true
   },
   "outputs": [],
   "source": [
    "#         self._records = gpd.GeoDataFrame(df.drop(['lat', 'lng'], axis=1),\n",
    "#                                 crs={'init': 'epsg:4326'},\n",
    "#                                 geometry=[shapely.geometry.Point(xy) for xy in zip(df.lat, df.lng)])"
   ]
  },
  {
   "cell_type": "code",
   "execution_count": null,
   "metadata": {
    "collapsed": true
   },
   "outputs": [],
   "source": [
    "def get_legal_actions_for_state(self, el):\n",
    "    \"\"\"\n",
    "    If in an activity state, the agent can either stay in the activity or transition to a travel state\n",
    "    (any available mode)\n",
    "\n",
    "     If in a travelling state, the agent can either stay in the current mode, transition to a different mode,\n",
    "      or arrive at an activity (essentially, any choice of action is available).\n",
    "\n",
    "    Args:\n",
    "        el: the current state type of the agent.\n",
    "\n",
    "    Returns:\n",
    "        A list of the available legal actions for the current state.\n",
    "\n",
    "    \"\"\"\n",
    "    if el in self.activity_types:\n",
    "        q = [k for k, v in self.actions.items() if (v.succ_ix in self.travel_modes or v.succ_ix == el)]\n",
    "    elif el in self.travel_modes:\n",
    "        q = self.actions.keys()\n",
    "    else:\n",
    "        raise ValueError(\"%s not Found!\" % el)\n",
    "    return q\n",
    "\n",
    "def _build_actions(self):\n",
    "    actions = {}\n",
    "    for action_ix, el in enumerate(self.activity_types + self.travel_modes):\n",
    "        actions[action_ix] = ATPAction(action_ix, el)\n",
    "        action_ix += 1\n",
    "    return actions\n",
    "\n",
    "def build_state_graph():\n",
    "    \"\"\"\n",
    "    Builds the mdp state graph from the travel plans\n",
    "\n",
    "    Returns:\n",
    "        The state graph\n",
    "    \"\"\"\n",
    "\n",
    "    # tmat = data.tmat  # SxT matrix\n",
    "\n",
    "    g = nx.DiGraph()\n",
    "    state_ix = 0\n",
    "\n",
    "    # Add unique states\n",
    "    term = False\n",
    "    for t in range(self.horizon):\n",
    "        for s, el in enumerate(self.activity_types + self.travel_modes):\n",
    "            edge = (el, t)\n",
    "            if t < self.horizon - 1:  # if it's not the last period, we can still make decisions\n",
    "                available_actions = self.get_legal_actions_for_state(el)\n",
    "            else:\n",
    "                available_actions = [self.get_home_action_id()]\n",
    "                term = True\n",
    "            for a in available_actions:\n",
    "                ns_el = self.actions[a].succ_ix\n",
    "                g.add_edge(edge, (ns_el, t + 1), attr_dict={'ix': a})\n",
    "            if el in self.activity_types:\n",
    "                el_type = ActivityState(state_ix, el, t, self.segment_mins, edge)\n",
    "            elif el in self.travel_modes:\n",
    "                el_type = TravelState(state_ix, el, t, self.segment_mins, edge)\n",
    "            else:\n",
    "                raise ValueError(\"%s not Found!\" % el)\n",
    "            if term:\n",
    "                el_type = ActivityState(state_ix, self.home_act, t, self.segment_mins, edge)\n",
    "                self.terminals.append(state_ix)\n",
    "                self.home_state = el_type\n",
    "                g.add_edge(edge, (self.home_act, t), attr_dict={'ix': available_actions[0]})\n",
    "            el_type.available_actions.extend(available_actions)\n",
    "            g.add_node(edge, attr_dict={'ix': state_ix, 'pos': edge, 'state': el_type})\n",
    "            self.states[state_ix] = el_type\n",
    "            state_ix += 1\n",
    "    return g"
   ]
  },
  {
   "cell_type": "code",
   "execution_count": 2,
   "metadata": {
    "collapsed": true
   },
   "outputs": [],
   "source": [
    "import tensorflow as tf"
   ]
  },
  {
   "cell_type": "code",
   "execution_count": null,
   "metadata": {
    "collapsed": true
   },
   "outputs": [],
   "source": [
    "sess = tf.InteractiveSession()"
   ]
  },
  {
   "cell_type": "code",
   "execution_count": 46,
   "metadata": {},
   "outputs": [
    {
     "ename": "ImportError",
     "evalue": "cannot import name bayesflow",
     "output_type": "error",
     "traceback": [
      "\u001b[0;31m---------------------------------------------------------------------------\u001b[0m",
      "\u001b[0;31mImportError\u001b[0m                               Traceback (most recent call last)",
      "\u001b[0;32m<ipython-input-46-d9355280a6e4>\u001b[0m in \u001b[0;36m<module>\u001b[0;34m()\u001b[0m\n\u001b[1;32m      1\u001b[0m \u001b[0mp\u001b[0m \u001b[0;34m=\u001b[0m \u001b[0;34m[\u001b[0m\u001b[0;36m0.1\u001b[0m\u001b[0;34m,\u001b[0m \u001b[0;36m0.5\u001b[0m\u001b[0;34m,\u001b[0m \u001b[0;36m0.4\u001b[0m\u001b[0;34m]\u001b[0m\u001b[0;34m\u001b[0m\u001b[0m\n\u001b[0;32m----> 2\u001b[0;31m \u001b[0mc\u001b[0m \u001b[0;34m=\u001b[0m \u001b[0mtf\u001b[0m\u001b[0;34m.\u001b[0m\u001b[0mcontrib\u001b[0m\u001b[0;34m.\u001b[0m\u001b[0mdistributions\u001b[0m\u001b[0;34m.\u001b[0m\u001b[0mCategorical\u001b[0m\u001b[0;34m(\u001b[0m\u001b[0mp\u001b[0m\u001b[0;34m)\u001b[0m\u001b[0;34m\u001b[0m\u001b[0m\n\u001b[0m",
      "\u001b[0;32m/Users/sfeygin/anaconda2/envs/da-irl/lib/python2.7/site-packages/tensorflow/python/util/lazy_loader.pyc\u001b[0m in \u001b[0;36m__getattr__\u001b[0;34m(self, item)\u001b[0m\n\u001b[1;32m     51\u001b[0m \u001b[0;34m\u001b[0m\u001b[0m\n\u001b[1;32m     52\u001b[0m   \u001b[0;32mdef\u001b[0m \u001b[0m__getattr__\u001b[0m\u001b[0;34m(\u001b[0m\u001b[0mself\u001b[0m\u001b[0;34m,\u001b[0m \u001b[0mitem\u001b[0m\u001b[0;34m)\u001b[0m\u001b[0;34m:\u001b[0m\u001b[0;34m\u001b[0m\u001b[0m\n\u001b[0;32m---> 53\u001b[0;31m     \u001b[0mmodule\u001b[0m \u001b[0;34m=\u001b[0m \u001b[0mself\u001b[0m\u001b[0;34m.\u001b[0m\u001b[0m_load\u001b[0m\u001b[0;34m(\u001b[0m\u001b[0;34m)\u001b[0m\u001b[0;34m\u001b[0m\u001b[0m\n\u001b[0m\u001b[1;32m     54\u001b[0m     \u001b[0;32mreturn\u001b[0m \u001b[0mgetattr\u001b[0m\u001b[0;34m(\u001b[0m\u001b[0mmodule\u001b[0m\u001b[0;34m,\u001b[0m \u001b[0mitem\u001b[0m\u001b[0;34m)\u001b[0m\u001b[0;34m\u001b[0m\u001b[0m\n\u001b[1;32m     55\u001b[0m \u001b[0;34m\u001b[0m\u001b[0m\n",
      "\u001b[0;32m/Users/sfeygin/anaconda2/envs/da-irl/lib/python2.7/site-packages/tensorflow/python/util/lazy_loader.pyc\u001b[0m in \u001b[0;36m_load\u001b[0;34m(self)\u001b[0m\n\u001b[1;32m     40\u001b[0m   \u001b[0;32mdef\u001b[0m \u001b[0m_load\u001b[0m\u001b[0;34m(\u001b[0m\u001b[0mself\u001b[0m\u001b[0;34m)\u001b[0m\u001b[0;34m:\u001b[0m\u001b[0;34m\u001b[0m\u001b[0m\n\u001b[1;32m     41\u001b[0m     \u001b[0;31m# Import the target module and insert it into the parent's namespace\u001b[0m\u001b[0;34m\u001b[0m\u001b[0;34m\u001b[0m\u001b[0m\n\u001b[0;32m---> 42\u001b[0;31m     \u001b[0mmodule\u001b[0m \u001b[0;34m=\u001b[0m \u001b[0mimportlib\u001b[0m\u001b[0;34m.\u001b[0m\u001b[0mimport_module\u001b[0m\u001b[0;34m(\u001b[0m\u001b[0mself\u001b[0m\u001b[0;34m.\u001b[0m\u001b[0m__name__\u001b[0m\u001b[0;34m)\u001b[0m\u001b[0;34m\u001b[0m\u001b[0m\n\u001b[0m\u001b[1;32m     43\u001b[0m     \u001b[0mself\u001b[0m\u001b[0;34m.\u001b[0m\u001b[0m_parent_module_globals\u001b[0m\u001b[0;34m[\u001b[0m\u001b[0mself\u001b[0m\u001b[0;34m.\u001b[0m\u001b[0m_local_name\u001b[0m\u001b[0;34m]\u001b[0m \u001b[0;34m=\u001b[0m \u001b[0mmodule\u001b[0m\u001b[0;34m\u001b[0m\u001b[0m\n\u001b[1;32m     44\u001b[0m \u001b[0;34m\u001b[0m\u001b[0m\n",
      "\u001b[0;32m/Users/sfeygin/anaconda2/envs/da-irl/lib/python2.7/importlib/__init__.pyc\u001b[0m in \u001b[0;36mimport_module\u001b[0;34m(name, package)\u001b[0m\n\u001b[1;32m     35\u001b[0m             \u001b[0mlevel\u001b[0m \u001b[0;34m+=\u001b[0m \u001b[0;36m1\u001b[0m\u001b[0;34m\u001b[0m\u001b[0m\n\u001b[1;32m     36\u001b[0m         \u001b[0mname\u001b[0m \u001b[0;34m=\u001b[0m \u001b[0m_resolve_name\u001b[0m\u001b[0;34m(\u001b[0m\u001b[0mname\u001b[0m\u001b[0;34m[\u001b[0m\u001b[0mlevel\u001b[0m\u001b[0;34m:\u001b[0m\u001b[0;34m]\u001b[0m\u001b[0;34m,\u001b[0m \u001b[0mpackage\u001b[0m\u001b[0;34m,\u001b[0m \u001b[0mlevel\u001b[0m\u001b[0;34m)\u001b[0m\u001b[0;34m\u001b[0m\u001b[0m\n\u001b[0;32m---> 37\u001b[0;31m     \u001b[0m__import__\u001b[0m\u001b[0;34m(\u001b[0m\u001b[0mname\u001b[0m\u001b[0;34m)\u001b[0m\u001b[0;34m\u001b[0m\u001b[0m\n\u001b[0m\u001b[1;32m     38\u001b[0m     \u001b[0;32mreturn\u001b[0m \u001b[0msys\u001b[0m\u001b[0;34m.\u001b[0m\u001b[0mmodules\u001b[0m\u001b[0;34m[\u001b[0m\u001b[0mname\u001b[0m\u001b[0;34m]\u001b[0m\u001b[0;34m\u001b[0m\u001b[0m\n",
      "\u001b[0;32m/Users/sfeygin/anaconda2/envs/da-irl/lib/python2.7/site-packages/tensorflow/contrib/__init__.py\u001b[0m in \u001b[0;36m<module>\u001b[0;34m()\u001b[0m\n\u001b[1;32m     20\u001b[0m \u001b[0;34m\u001b[0m\u001b[0m\n\u001b[1;32m     21\u001b[0m \u001b[0;31m# Add projects here, they will show up under tf.contrib.\u001b[0m\u001b[0;34m\u001b[0m\u001b[0;34m\u001b[0m\u001b[0m\n\u001b[0;32m---> 22\u001b[0;31m \u001b[0;32mfrom\u001b[0m \u001b[0mtensorflow\u001b[0m\u001b[0;34m.\u001b[0m\u001b[0mcontrib\u001b[0m \u001b[0;32mimport\u001b[0m \u001b[0mbayesflow\u001b[0m\u001b[0;34m\u001b[0m\u001b[0m\n\u001b[0m\u001b[1;32m     23\u001b[0m \u001b[0;32mfrom\u001b[0m \u001b[0mtensorflow\u001b[0m\u001b[0;34m.\u001b[0m\u001b[0mcontrib\u001b[0m \u001b[0;32mimport\u001b[0m \u001b[0mcloud\u001b[0m\u001b[0;34m\u001b[0m\u001b[0m\n\u001b[1;32m     24\u001b[0m \u001b[0;32mfrom\u001b[0m \u001b[0mtensorflow\u001b[0m\u001b[0;34m.\u001b[0m\u001b[0mcontrib\u001b[0m \u001b[0;32mimport\u001b[0m \u001b[0mcluster_resolver\u001b[0m\u001b[0;34m\u001b[0m\u001b[0m\n",
      "\u001b[0;31mImportError\u001b[0m: cannot import name bayesflow"
     ]
    }
   ],
   "source": [
    "p = [0.1, 0.5, 0.4]\n",
    "c = tf.contrib.distributions.Categorical(p)\n"
   ]
  },
  {
   "cell_type": "code",
   "execution_count": null,
   "metadata": {
    "collapsed": true
   },
   "outputs": [],
   "source": []
  },
  {
   "cell_type": "code",
   "execution_count": 6,
   "metadata": {
    "collapsed": true
   },
   "outputs": [],
   "source": [
    "import networkx as nx\n",
    "\n",
    "\n",
    "g = nx.DiGraph()\n",
    "\n"
   ]
  }
 ],
 "metadata": {
  "anaconda-cloud": {},
  "kernelspec": {
   "display_name": "Python 2",
   "language": "python",
   "name": "python2"
  },
  "language_info": {
   "codemirror_mode": {
    "name": "ipython",
    "version": 2
   },
   "file_extension": ".py",
   "mimetype": "text/x-python",
   "name": "python",
   "nbconvert_exporter": "python",
   "pygments_lexer": "ipython2",
   "version": "2.7.14"
  }
 },
 "nbformat": 4,
 "nbformat_minor": 1
}
